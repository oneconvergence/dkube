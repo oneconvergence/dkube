{
 "cells": [
  {
   "cell_type": "code",
   "execution_count": null,
   "metadata": {},
   "outputs": [],
   "source": [
    "import os\n",
    "import sys\n",
    "import json\n",
    "import warnings\n",
    "import jwt\n",
    "import argparse\n",
    "import boto3\n",
    "\n",
    "from dkube.sdk import *"
   ]
  },
  {
   "cell_type": "markdown",
   "metadata": {},
   "source": [
    "#### Configuration"
   ]
  },
  {
   "cell_type": "code",
   "execution_count": null,
   "metadata": {},
   "outputs": [],
   "source": [
    "# Tune the following in this cell \n",
    "\n",
    "## specify your Dkube username\n",
    "user = DKUBEUSERNAME = os.getenv(\"DKUBE_USER_LOGIN_NAME\",\"\")\n",
    "\n",
    "## Dkube information.\n",
    "TOKEN = os.getenv(\"DKUBE_USER_ACCESS_TOKEN\",\"\")\n",
    "DKUBE_URL = os.getenv(\"DKUBE_URL\",\"\")\n",
    "\n",
    "if not(TOKEN or DKUBEUSERNAME or DKUBE_URL):\n",
    "    print(\"Please fill the Dkube details first (TOKEN, DKUBE_URL, DKUBEUSERNAME, DKUBE_IP)\")\n",
    "    raise TypeError"
   ]
  },
  {
   "cell_type": "code",
   "execution_count": null,
   "metadata": {},
   "outputs": [],
   "source": [
    "# Read inputs\n",
    "with open(\"inputs.json\") as f:\n",
    "    teamb_inputs = json.load(f)\n",
    "    \n",
    "\n",
    "s3_client = boto3.client('s3', \n",
    "                        endpoint_url = teamb_inputs[\"s3_endpoint\"],\n",
    "                        aws_access_key_id=teamb_inputs['s3_accesskeyid'],\n",
    "                        aws_secret_access_key=teamb_inputs['s3_accesskey'])\n",
    "    \n",
    "artifacts_data = s3_client.get_object(Bucket=teamb_inputs[\"s3_bucket\"], \n",
    "                                Key=teamb_inputs[\"artifacts_json\"]) \\\n",
    "                .get('Body').read().decode(\"utf-8\")\n"
   ]
  },
  {
   "cell_type": "markdown",
   "metadata": {},
   "source": [
    "### Import for Deployment"
   ]
  },
  {
   "cell_type": "code",
   "execution_count": null,
   "metadata": {},
   "outputs": [],
   "source": [
    "api = DkubeApi(URL=DKUBE_URL, token=TOKEN)\n",
    "\n",
    "artifacts = json.loads(artifacts_data)\n",
    "deploy_exports = artifacts[\"deployment_inputs\"]\n",
    "monitor_exports = artifacts[\"monitor_inputs\"]\n",
    "\n",
    "#1. download model\n",
    "name = teamb_inputs[\"name\"]\n",
    "\n",
    "model = DkubeModel(user, name=name + \"-model\")\n",
    "model.update_s3_details(endpoint=teamb_inputs[\"s3_endpoint\"], \n",
    "                        bucket=teamb_inputs[\"s3_bucket\"], \n",
    "                        prefix=deploy_exports[\"model\"], \n",
    "                        key=teamb_inputs[\"s3_accesskeyid\"], \n",
    "                        secret=teamb_inputs[\"s3_accesskey\"])\n",
    "api.create_model(model)\n",
    "    \n",
    "\n",
    "\n",
    "\n",
    "#2. create transformer code\n",
    "transformer = deploy_exports[\"transformer\"]\n",
    "if transformer[\"enable\"] == True:\n",
    "    code = DkubeCode(user, name=name + \"-transformer\")\n",
    "    code.update_git_details(transformer[\"code\"][\"url\"], branch=transformer[\"code\"][\"branch\"])\n",
    "    api.create_code(code)\n",
    "\n",
    "#4. publish model\n",
    "publish = DkubeServing(user, name=\"publish-\"+name, description='model published from siteA')\n",
    "publish.update_serving_model(name + \"-model\")\n",
    "publish.update_serving_image(image_url=deploy_exports[\"predictor\"][\"image\"])\n",
    "if transformer[\"enable\"] == True:\n",
    "    publish.set_transformer(True, script=transformer[\"script\"])\n",
    "    publish.update_transformer_code(code.name)\n",
    "    publish.update_transformer_image(image_url=transformer[\"image\"])\n",
    "\n",
    "api.publish_model(\"publish-\"+name, \"model published from siteA\", publish)\n",
    "\n",
    "puburl = \"/#/ds/repos/models/published/user/{}/{}\".format(user, name+\"-model\")\n",
    "print(\"\\n\")\n",
    "print(\"\\033[1;31m Imported Resource Details Below  \\033[0m \\n\")\n",
    "print(\"\\033[1;30m \\t Imported model - %s \\033[0m \" % (name+\"-model\"))\n",
    "print(\"\\033[1;30m \\t Transformer code - %s \\033[0m \" % (name+\"-transformer\"))\n",
    "print(\"\\033[1;30m \\t Published model link - %s \\033[0m \" % puburl)"
   ]
  },
  {
   "cell_type": "code",
   "execution_count": null,
   "metadata": {},
   "outputs": [],
   "source": []
  }
 ],
 "metadata": {
  "kernelspec": {
   "display_name": "Python 3",
   "language": "python",
   "name": "python3"
  },
  "language_info": {
   "codemirror_mode": {
    "name": "ipython",
    "version": 3
   },
   "file_extension": ".py",
   "mimetype": "text/x-python",
   "name": "python",
   "nbconvert_exporter": "python",
   "pygments_lexer": "ipython3",
   "version": "3.6.8"
  }
 },
 "nbformat": 4,
 "nbformat_minor": 4
}
