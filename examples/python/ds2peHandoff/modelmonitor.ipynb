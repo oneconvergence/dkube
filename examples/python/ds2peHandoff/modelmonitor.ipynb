{
 "cells": [
  {
   "cell_type": "code",
   "execution_count": null,
   "metadata": {},
   "outputs": [],
   "source": [
    "\n",
    "import time\n",
    "import os,json,sys, boto3\n",
    "import requests, operator\n",
    "from dkube.sdk import *\n",
    "from dkube.sdk.api import DkubeApi\n",
    "from dkube.sdk.rsrcs import DkubeModelmonitor\n",
    "from dkube.sdk.rsrcs.modelmonitor import DatasetClass,ModelType,DriftAlgo, DataType\n",
    "from dkube.sdk.rsrcs.modelmonitor import DatasetFormat,DkubeModelmonitorAlert, TimeZone"
   ]
  },
  {
   "cell_type": "markdown",
   "metadata": {},
   "source": [
    "#### Configuration"
   ]
  },
  {
   "cell_type": "code",
   "execution_count": null,
   "metadata": {},
   "outputs": [],
   "source": [
    "# Tune the following parameters in this cell\n",
    "\n",
    "# IP of the DKube setup without https://\n",
    "# and without port number eg: 1.2.3.4\n",
    "DKUBE_IP = \"\"\n",
    "\n",
    "DEPLOYMENT_NAME = \"insurance-demo\"\n",
    "## Define the model monitor name here that you will be creating \n",
    "MONITOR_NAME = DEPLOYMENT_NAME\n",
    "\n",
    "# the frequency with which monitoring will run, value will be considered in minutes\n",
    "RUN_FREQUENCY = 5\n",
    "\n",
    "## specify your Dkube username\n",
    "user = DKUBEUSERNAME = os.getenv(\"DKUBE_USER_LOGIN_NAME\",\"\")\n",
    "## Dkube information.\n",
    "TOKEN = os.getenv(\"DKUBE_USER_ACCESS_TOKEN\",\"\")\n",
    "DKUBE_URL = os.getenv(\"DKUBE_URL\",\"\")\n",
    "\n",
    "\n",
    "if not(TOKEN or DKUBEUSERNAME or DKUBE_URL or DKUBE_IP):\n",
    "    print(\"Please fill the Dkube details first (TOKEN, DKUBE_URL, DKUBEUSERNAME, DKUBE_IP)\")\n",
    "    raise TypeError\n",
    "\n"
   ]
  },
  {
   "cell_type": "markdown",
   "metadata": {},
   "source": [
    "### Monitor Inputs"
   ]
  },
  {
   "cell_type": "code",
   "execution_count": null,
   "metadata": {},
   "outputs": [],
   "source": [
    "# Read inputs\n",
    "with open(\"inputs.json\") as f:\n",
    "    teamb_inputs = json.load(f)\n",
    "    \n",
    "\n",
    "s3_client = boto3.client('s3', \n",
    "                        endpoint_url = teamb_inputs[\"s3_endpoint\"],\n",
    "                        aws_access_key_id=teamb_inputs['s3_accesskeyid'],\n",
    "                        aws_secret_access_key=teamb_inputs['s3_accesskey'])\n",
    "    \n",
    "artifacts_data = s3_client.get_object(Bucket=teamb_inputs[\"s3_bucket\"], \n",
    "                                Key=teamb_inputs[\"artifacts_json\"]) \\\n",
    "                .get('Body').read().decode(\"utf-8\")\n",
    "\n",
    "\n",
    "artifacts = json.loads(artifacts_data)\n",
    "monitor_exports = artifacts[\"monitor_inputs\"]\n",
    "\n",
    "DKUBE_TRAIN_DATASET = MONITOR_NAME + \"-train\"\n",
    "\n",
    "api = DkubeApi(URL=DKUBE_URL,token=TOKEN)\n",
    "\n",
    "#1. Create train dataset\n",
    "dataset = DkubeDataset(user, name=DKUBE_TRAIN_DATASET)\n",
    "dataset.update_s3_details(endpoint=teamb_inputs[\"s3_endpoint\"], \n",
    "                        bucket=teamb_inputs[\"s3_bucket\"], \n",
    "                        prefix=monitor_exports[\"traindata\"], \n",
    "                        key=teamb_inputs[\"s3_accesskeyid\"], \n",
    "                        secret=teamb_inputs[\"s3_accesskey\"])\n",
    "    \n",
    "api.create_dataset(dataset)\n",
    "\n",
    "#2. Download train data transformer\n",
    "s3_client.download_file(teamb_inputs[\"s3_bucket\"], \n",
    "                        monitor_exports[\"traindata_transformer\"],\n",
    "                        \"transform-data.py\")\n",
    "\n",
    "#3. Download metrics\n",
    "s3_client.download_file(teamb_inputs[\"s3_bucket\"], \n",
    "                        monitor_exports[\"thresholds\"],\n",
    "                        \"thresholds.json\")\n",
    "\n",
    "#4. Get model specific parameters\n",
    "MODEL_TYPE = monitor_exports.get(\"model_type\", \"regression\")\n",
    "MODEL_INPUT = monitor_exports.get(\"model_input\", \"tabular\")\n",
    "DATA_TZ = monitor_exports.get(\"data_tz\", \"UTC\")\n",
    "\n",
    "text_file = open(\"transform-data.py\", \"r\")\n",
    "#read whole file to a string\n",
    "script = text_file.read()\n",
    "#close file\n",
    "text_file.close()\n",
    "\n",
    "with open('thresholds.json') as f:\n",
    "    thresholds = json.load(f)"
   ]
  },
  {
   "cell_type": "markdown",
   "metadata": {},
   "source": [
    "### Utility Functions"
   ]
  },
  {
   "cell_type": "code",
   "execution_count": null,
   "metadata": {},
   "outputs": [],
   "source": [
    "def get_dataset_version(username, dataset_name, version):\n",
    "    dataset_versions = api.get_dataset_versions(username, dataset_name)\n",
    "    versions = []\n",
    "    for each_version in dataset_versions:\n",
    "        if each_version[\"version\"][\"name\"] == version:\n",
    "            uuid = each_version[\"version\"][\"uuid\"]\n",
    "            return f\"{version}:{uuid}\"\n",
    "        else:\n",
    "            versions.append(each_version[\"version\"][\"name\"])\n",
    "    return f\"dataset version {version} not found, available version are {versions}\""
   ]
  },
  {
   "cell_type": "code",
   "execution_count": null,
   "metadata": {},
   "outputs": [],
   "source": [
    "#### Datasets for Monitoring"
   ]
  },
  {
   "cell_type": "code",
   "execution_count": null,
   "metadata": {},
   "outputs": [],
   "source": [
    "# Train Dataset\n",
    "training_data = f'{DKUBE_TRAIN_DATASET}:'+ DKUBEUSERNAME\n",
    "train_data_version = get_dataset_version(DKUBEUSERNAME,\n",
    "                                            DKUBE_TRAIN_DATASET, \"v1\")\n",
    "# Predict Dataset is derived internally\n",
    "predict_data_format = \"cloudeventlogs\"\n",
    "\n",
    "# Label Dataset - Create a placeholder in Minio\n",
    "LIVE_DATASET = MONITOR_NAME + \"-labels\"\n",
    "labelled_data = LIVE_DATASET + \":\"+ DKUBEUSERNAME\n",
    "\n",
    "\n",
    "# Get the cloudevents bucket creds\n",
    "\n",
    "response =  api.get_cloudevents_logstore_creds()\n",
    "               \n",
    "MINIO_KEY = response[\"access_key_id\"]\n",
    "MINIO_SECRET_KEY = response[\"access_key\"]\n",
    "MINIO_BUCKET = response[\"bucket\"]\n",
    "\n",
    "MINIO_ENDPOINT = f\"http://{DKUBE_IP}:32221\"\n",
    "\n",
    "try:\n",
    "    dataset = DkubeDataset(DKUBEUSERNAME, name=LIVE_DATASET,remote=True)\n",
    "    dataset.update_dataset_source('s3')\n",
    "    dataset.update_s3_details(\n",
    "        endpoint = MINIO_ENDPOINT,\n",
    "        bucket=MINIO_BUCKET,\n",
    "        prefix='',\n",
    "        key=MINIO_KEY,\n",
    "        secret=MINIO_SECRET_KEY)\n",
    "    api.create_dataset(dataset)\n",
    "\n",
    "except Exception as e:\n",
    "    if e.reason:\n",
    "        if e.reason.lower() != \"conflict\":\n",
    "            response = e.body\n",
    "            print(f\"Failed[{response.code}]: {response.message}\")\n",
    "    else:\n",
    "        raise e"
   ]
  },
  {
   "cell_type": "markdown",
   "metadata": {},
   "source": [
    "### Model Monitor"
   ]
  },
  {
   "cell_type": "code",
   "execution_count": null,
   "metadata": {},
   "outputs": [],
   "source": [
    "DEPLOYMENT_ID = api.get_deployment_id(name=DEPLOYMENT_NAME)\n",
    "mm=DkubeModelmonitor(deployemnt_id = DEPLOYMENT_ID)"
   ]
  },
  {
   "cell_type": "code",
   "execution_count": null,
   "metadata": {},
   "outputs": [],
   "source": [
    "mm.update_modelmonitor_basics(model_type=MODEL_TYPE, \n",
    "                               input_data_type=MODEL_INPUT,\n",
    "                               data_timezone=DATA_TZ)"
   ]
  },
  {
   "cell_type": "code",
   "execution_count": null,
   "metadata": {},
   "outputs": [],
   "source": [
    "mm.add_thresholds(thresholds=thresholds)"
   ]
  },
  {
   "cell_type": "markdown",
   "metadata": {},
   "source": [
    "## Health Monitoring"
   ]
  },
  {
   "cell_type": "code",
   "execution_count": null,
   "metadata": {},
   "outputs": [],
   "source": [
    "mm.update_deployment_monitoring_details(enabled=True, frequency=1)"
   ]
  },
  {
   "cell_type": "markdown",
   "metadata": {},
   "source": [
    "## Add Drift monitoring details"
   ]
  },
  {
   "cell_type": "code",
   "execution_count": null,
   "metadata": {},
   "outputs": [],
   "source": [
    "mm.update_drift_monitoring_details(enabled=True,frequency=5,algorithm='auto')"
   ]
  },
  {
   "cell_type": "markdown",
   "metadata": {},
   "source": [
    "### Add Train, Prediction, and Labelled Datasets"
   ]
  },
  {
   "cell_type": "code",
   "execution_count": null,
   "metadata": {},
   "outputs": [],
   "source": [
    "mm.add_datasources(data_class=str(DatasetClass.Train),name=training_data,\n",
    "                   data_format=MODEL_INPUT,\n",
    "                   version=train_data_version,transformer_script = script)\n",
    "\n",
    "mm.add_datasources(data_class=str(DatasetClass.Predict),\n",
    "                   data_format=predict_data_format,)\n",
    "\n",
    "mm.add_datasources(data_class=str(DatasetClass.Labelled),name=labelled_data,\n",
    "                   data_format=MODEL_INPUT, s3_subpath=DEPLOYMENT_ID + \"/livedata\",\n",
    "                   predict_col=\"charges\",groundtruth_col=\"GT_target\",timestamp_col=\"timestamp\")"
   ]
  },
  {
   "cell_type": "markdown",
   "metadata": {},
   "source": [
    "### Performance Monitoring"
   ]
  },
  {
   "cell_type": "code",
   "execution_count": null,
   "metadata": {},
   "outputs": [],
   "source": [
    "mm.update_performance_monitoring_details(enabled=True,source_type=\"labelled_data\",frequency=5)"
   ]
  },
  {
   "cell_type": "markdown",
   "metadata": {},
   "source": [
    "### Create Model monitor"
   ]
  },
  {
   "cell_type": "code",
   "execution_count": null,
   "metadata": {},
   "outputs": [],
   "source": [
    "api.modelmonitor_create(mm,wait_for_completion=True)"
   ]
  },
  {
   "cell_type": "markdown",
   "metadata": {},
   "source": [
    "### Extracting id of the Model Monitor"
   ]
  },
  {
   "cell_type": "code",
   "execution_count": null,
   "metadata": {},
   "outputs": [],
   "source": [
    "# The function below can be used to fetch model monitor ID by name.\n",
    "# The monitor id will be same as deployment id.\n",
    "# id = api.modelmonitor_get_id(MONITOR_NAME)\n",
    "id = DEPLOYMENT_ID\n",
    "print(id)"
   ]
  },
  {
   "cell_type": "markdown",
   "metadata": {},
   "source": [
    "### Schema update"
   ]
  },
  {
   "cell_type": "code",
   "execution_count": null,
   "metadata": {},
   "outputs": [],
   "source": [
    "api.modelmonitor_update_schema(id,label='charges',schema_class='continuous',schema_type=\"prediction_output\",selected=False)\n",
    "api.modelmonitor_update_schema(id,label='unique_id',schema_class='continuous',schema_type=\"row_id\",selected=False)\n",
    "api.modelmonitor_update_schema(id,label='timestamp',schema_class='continuous',schema_type=\"timestamp\",selected=False)\n",
    "\n",
    "## age and bmi to continuous\n",
    "api.modelmonitor_update_schema(id,label='age',schema_class='continuous',schema_type='input_feature',selected=True)\n",
    "api.modelmonitor_update_schema(id,label='bmi',schema_class='continuous',schema_type='input_feature',selected=True)\n",
    "\n",
    "## select these features\n",
    "api.modelmonitor_update_schema(id,label='sex',schema_type='input_feature',schema_class='categorical',selected=True)\n",
    "api.modelmonitor_update_schema(id,label='children',schema_type='input_feature',schema_class='categorical',selected=True)\n",
    "api.modelmonitor_update_schema(id,label='smoker',schema_type='input_feature',schema_class='categorical',selected=True)\n",
    "api.modelmonitor_update_schema(id,label='region',schema_type='input_feature',schema_class='categorical',selected=True)"
   ]
  },
  {
   "cell_type": "markdown",
   "metadata": {},
   "source": [
    "### Add alerts"
   ]
  },
  {
   "cell_type": "markdown",
   "metadata": {},
   "source": [
    "#### Deployment Health Alert"
   ]
  },
  {
   "cell_type": "code",
   "execution_count": null,
   "metadata": {},
   "outputs": [],
   "source": [
    "alert = DkubeModelmonitorAlert(name='latency_alert', alert_class = 'deployment_health')\n",
    "alert.add_alert_condition(metric='latency_avg',threshold=300, op=operator.gt)\n",
    "api.modelmonitor_add_alert(id,alert)"
   ]
  },
  {
   "cell_type": "markdown",
   "metadata": {},
   "source": [
    "#### Feature Alert"
   ]
  },
  {
   "cell_type": "code",
   "execution_count": null,
   "metadata": {},
   "outputs": [],
   "source": [
    "alert = DkubeModelmonitorAlert(name='age_alert', alert_class = 'feature_drift')\n",
    "alert.add_alert_condition(feature='age',threshold=0.02, op=operator.lt)\n",
    "api.modelmonitor_add_alert(id,alert)"
   ]
  },
  {
   "cell_type": "markdown",
   "metadata": {},
   "source": [
    "#### Performance Alert"
   ]
  },
  {
   "cell_type": "code",
   "execution_count": null,
   "metadata": {},
   "outputs": [],
   "source": [
    "alert = DkubeModelmonitorAlert(name='mae_alert', alert_class = 'performance_decay')\n",
    "alert.add_alert_condition(metric='mae',threshold=2000, op=operator.gt)\n",
    "api.modelmonitor_add_alert(id,alert)"
   ]
  },
  {
   "cell_type": "markdown",
   "metadata": {},
   "source": [
    "### Start the model monitor"
   ]
  },
  {
   "cell_type": "code",
   "execution_count": null,
   "metadata": {},
   "outputs": [],
   "source": [
    "api.modelmonitor_start(id)"
   ]
  },
  {
   "cell_type": "markdown",
   "metadata": {},
   "source": [
    "### Retraining / Rebaselining Model Monitor"
   ]
  },
  {
   "cell_type": "markdown",
   "metadata": {},
   "source": [
    "### Cleanup"
   ]
  },
  {
   "cell_type": "code",
   "execution_count": null,
   "metadata": {},
   "outputs": [],
   "source": [
    "CLEANUP = False\n",
    "if CLEANUP:\n",
    "    from time import sleep\n",
    "    RETRIES = 4\n",
    "    while RETRIES:\n",
    "        mm = api.modelmonitor_get(id)\n",
    "        if mm[\"status\"] and mm[\"status\"][\"state\"].lower() != \"active\":\n",
    "            break\n",
    "        elif mm[\"status\"] and mm[\"status\"][\"state\"].lower() == \"active\":\n",
    "            api.modelmonitor_stop(id)\n",
    "        RETRIES -= 1\n",
    "        sleep(5)\n",
    "    else:\n",
    "        raise TimeoutError(\"modelmonitor failed to stopped\")\n",
    "    api.modelmonitor_delete(id)\n",
    "    "
   ]
  },
  {
   "cell_type": "code",
   "execution_count": null,
   "metadata": {},
   "outputs": [],
   "source": []
  }
 ],
 "metadata": {
  "kernelspec": {
   "display_name": "Python 3",
   "language": "python",
   "name": "python3"
  },
  "language_info": {
   "codemirror_mode": {
    "name": "ipython",
    "version": 3
   },
   "file_extension": ".py",
   "mimetype": "text/x-python",
   "name": "python",
   "nbconvert_exporter": "python",
   "pygments_lexer": "ipython3",
   "version": "3.6.8"
  }
 },
 "nbformat": 4,
 "nbformat_minor": 4
}
